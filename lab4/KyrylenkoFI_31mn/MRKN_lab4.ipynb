{
  "nbformat": 4,
  "nbformat_minor": 0,
  "metadata": {
    "colab": {
      "provenance": []
    },
    "kernelspec": {
      "name": "python3",
      "display_name": "Python 3"
    },
    "language_info": {
      "name": "python"
    }
  },
  "cells": [
    {
      "cell_type": "markdown",
      "source": [
        "# Лабораторна робота № 4.\n",
        "\n",
        "Тема:\n",
        "\n",
        "Дослідження особливостей реалізації існуючих програмних систем,\n",
        "які використовують криптографічні механізми захисту інформації.\n",
        "\n",
        "Мета роботи:\n",
        "\n",
        " Отримання практичних навичок побудови гібридних\n",
        "криптосистем."
      ],
      "metadata": {
        "id": "uLDtfJyts712"
      }
    },
    {
      "cell_type": "markdown",
      "source": [
        "Для другого типу лабораторних робіт – розробити реалізацію\n",
        "асиметричної криптосистеми у відповідності до стандартних вимог Crypto API\n",
        "або стандартів PKCS та дослідити стійкість стандартних криптопровайдерів до\n",
        "атак, що використовують недосконалість механізмів захисту операційної\n",
        "системи.\n",
        "\n",
        "Варіанти завдань другого типу.\n",
        "\n",
        "Підгрупа 2А. Бібліотека OpenSSL під Windows платформу. Кр/с Ель Гамаля.\n",
        "[1] с. 535.\n",
        "\n",
        "Підгрупа 2B. Бібліотека PyCrypto під Linux платформу. Стандарт ECDSA.\n",
        "\n",
        "Підгрупа 2C. Бібліотека PyCrypto під Crypto++ під Android/MacOs/Ios\n",
        "платформу. Реалізація несуперечного цифрового підпису.\n",
        "\n",
        "Оформлення результатів: контрольний приклад роботи з асиметричною\n",
        "криптосистемою. Приклад атаки або демонстрація їх неможливості."
      ],
      "metadata": {
        "id": "EYLk-IaftGlp"
      }
    },
    {
      "cell_type": "code",
      "source": [
        "!!pip install pycryptodome"
      ],
      "metadata": {
        "colab": {
          "base_uri": "https://localhost:8080/"
        },
        "id": "dBFhUZtJuCmU",
        "outputId": "37bee10c-74bc-4c76-d279-cb599e482b3b"
      },
      "execution_count": 1,
      "outputs": [
        {
          "output_type": "execute_result",
          "data": {
            "text/plain": [
              "['Collecting pycryptodome',\n",
              " '  Downloading pycryptodome-3.21.0-cp36-abi3-manylinux_2_17_x86_64.manylinux2014_x86_64.whl.metadata (3.4 kB)',\n",
              " 'Downloading pycryptodome-3.21.0-cp36-abi3-manylinux_2_17_x86_64.manylinux2014_x86_64.whl (2.3 MB)',\n",
              " '\\x1b[?25l   \\x1b[90m━━━━━━━━━━━━━━━━━━━━━━━━━━━━━━━━━━━━━━━━\\x1b[0m \\x1b[32m0.0/2.3 MB\\x1b[0m \\x1b[31m?\\x1b[0m eta \\x1b[36m-:--:--\\x1b[0m',\n",
              " '\\x1b[2K   \\x1b[91m━━━\\x1b[0m\\x1b[91m╸\\x1b[0m\\x1b[90m━━━━━━━━━━━━━━━━━━━━━━━━━━━━━━━━━━━━\\x1b[0m \\x1b[32m0.2/2.3 MB\\x1b[0m \\x1b[31m8.3 MB/s\\x1b[0m eta \\x1b[36m0:00:01\\x1b[0m',\n",
              " '\\x1b[2K   \\x1b[91m━━━━━━━━━━━━━━━━\\x1b[0m\\x1b[90m╺\\x1b[0m\\x1b[90m━━━━━━━━━━━━━━━━━━━━━━━\\x1b[0m \\x1b[32m0.9/2.3 MB\\x1b[0m \\x1b[31m13.1 MB/s\\x1b[0m eta \\x1b[36m0:00:01\\x1b[0m',\n",
              " '\\x1b[2K   \\x1b[91m━━━━━━━━━━━━━━━━━━━━━━━━━━━━━━━━━━━━━━\\x1b[0m\\x1b[91m╸\\x1b[0m\\x1b[90m━\\x1b[0m \\x1b[32m2.2/2.3 MB\\x1b[0m \\x1b[31m19.4 MB/s\\x1b[0m eta \\x1b[36m0:00:01\\x1b[0m',\n",
              " '\\x1b[2K   \\x1b[91m━━━━━━━━━━━━━━━━━━━━━━━━━━━━━━━━━━━━━━━\\x1b[0m\\x1b[91m╸\\x1b[0m \\x1b[32m2.3/2.3 MB\\x1b[0m \\x1b[31m18.2 MB/s\\x1b[0m eta \\x1b[36m0:00:01\\x1b[0m',\n",
              " '\\x1b[2K   \\x1b[90m━━━━━━━━━━━━━━━━━━━━━━━━━━━━━━━━━━━━━━━━\\x1b[0m \\x1b[32m2.3/2.3 MB\\x1b[0m \\x1b[31m13.5 MB/s\\x1b[0m eta \\x1b[36m0:00:00\\x1b[0m',\n",
              " '\\x1b[?25hInstalling collected packages: pycryptodome',\n",
              " 'Successfully installed pycryptodome-3.21.0']"
            ]
          },
          "metadata": {},
          "execution_count": 1
        }
      ]
    },
    {
      "cell_type": "code",
      "execution_count": 2,
      "metadata": {
        "id": "MBRTJUr5s0D_"
      },
      "outputs": [],
      "source": [
        "from Crypto.PublicKey import ECC\n",
        "from Crypto.Signature import DSS\n",
        "from Crypto.Hash import SHA256\n",
        "import os\n",
        "\n",
        "def generate_key_pair():\n",
        "    \"\"\"Генерує пару ключів ECC\"\"\"\n",
        "    key = ECC.generate(curve='P-256')\n",
        "    private_key = key.export_key(format='PEM')\n",
        "    public_key = key.public_key().export_key(format='PEM')\n",
        "    return private_key, public_key\n",
        "\n",
        "def save_keys_to_files(private_key, public_key):\n",
        "    \"\"\"Зберігає ключі у файли\"\"\"\n",
        "    with open(\"private_key.pem\", \"wb\") as priv_file:\n",
        "        priv_file.write(private_key.encode())\n",
        "    with open(\"public_key.pem\", \"wb\") as pub_file:\n",
        "        pub_file.write(public_key.encode())\n",
        "\n",
        "def sign_message(private_key_path, message):\n",
        "    \"\"\"Підписує повідомлення за допомогою приватного ключа\"\"\"\n",
        "    with open(private_key_path, \"rt\") as key_file:\n",
        "        private_key = ECC.import_key(key_file.read())\n",
        "\n",
        "    h = SHA256.new(message.encode())\n",
        "    signer = DSS.new(private_key, 'fips-186-3')\n",
        "    signature = signer.sign(h)\n",
        "    return signature\n",
        "\n",
        "def verify_signature(public_key_path, message, signature):\n",
        "    \"\"\"Перевіряє підпис повідомлення за допомогою публічного ключа\"\"\"\n",
        "    with open(public_key_path, \"rt\") as key_file:\n",
        "        public_key = ECC.import_key(key_file.read())\n",
        "\n",
        "    h = SHA256.new(message.encode())\n",
        "    verifier = DSS.new(public_key, 'fips-186-3')\n",
        "    try:\n",
        "        verifier.verify(h, signature)\n",
        "        return True\n",
        "    except ValueError:\n",
        "        return False"
      ]
    },
    {
      "cell_type": "code",
      "source": [
        "print(\"Генерація ключів...\")\n",
        "private_key, public_key = generate_key_pair()\n",
        "save_keys_to_files(private_key, public_key)\n",
        "print(\"Ключі збережено у файли private_key.pem та public_key.pem.\")\n",
        "\n",
        "message = \"Це тестове повідомлення для підпису.\"\n",
        "print(\"Повідомлення для підпису:\", message)\n",
        "\n",
        "signature = sign_message(\"private_key.pem\", message)\n",
        "print(\"Підпис згенеровано.\")\n",
        "\n",
        "is_valid = verify_signature(\"public_key.pem\", message, signature)\n",
        "print(\"Перевірка підпису:\", \"Підпис вірний\" if is_valid else \"Підпис недійсний\")"
      ],
      "metadata": {
        "colab": {
          "base_uri": "https://localhost:8080/"
        },
        "id": "oOJEQLiftzIh",
        "outputId": "e4515d61-bdb5-4d32-b98e-37aa63e26526"
      },
      "execution_count": 3,
      "outputs": [
        {
          "output_type": "stream",
          "name": "stdout",
          "text": [
            "Генерація ключів...\n",
            "Ключі збережено у файли private_key.pem та public_key.pem.\n",
            "Повідомлення для підпису: Це тестове повідомлення для підпису.\n",
            "Підпис згенеровано.\n",
            "Перевірка підпису: Підпис вірний\n"
          ]
        }
      ]
    },
    {
      "cell_type": "code",
      "source": [
        "def attack_example(public_key_path, message, signature):\n",
        "    \"\"\"Демонструє атаку шляхом модифікації підпису або повідомлення.\"\"\"\n",
        "    print(\"Оригінальне повідомлення:\", message)\n",
        "    print(\"Перевірка підпису на оригінальному повідомленні...\")\n",
        "    is_valid_original = verify_signature(public_key_path, message, signature)\n",
        "    print(\"Результат:\", \"Підпис вірний\" if is_valid_original else \"Підпис недійсний\")\n",
        "\n",
        "    # Спроба модифікації повідомлення\n",
        "    tampered_message = message + \" (модифіковане)\"\n",
        "    print(\"\\nМодифіковане повідомлення:\", tampered_message)\n",
        "    is_valid_tampered_message = verify_signature(public_key_path, tampered_message, signature)\n",
        "    print(\"Перевірка підпису з модифікованим повідомленням:\")\n",
        "    print(\"Результат:\", \"Підпис вірний\" if is_valid_tampered_message else \"Підпис недійсний\")\n",
        "\n",
        "    # Спроба модифікації підпису\n",
        "    tampered_signature = bytearray(signature)\n",
        "    tampered_signature[0] ^= 0x01  # Змінюємо перший байт підпису\n",
        "    print(\"\\nПеревірка підпису з модифікованим підписом...\")\n",
        "    is_valid_tampered_signature = verify_signature(public_key_path, message, bytes(tampered_signature))\n",
        "    print(\"Результат:\", \"Підпис вірний\" if is_valid_tampered_signature else \"Підпис недійсний\")"
      ],
      "metadata": {
        "id": "YsnKysySuK0_"
      },
      "execution_count": 4,
      "outputs": []
    },
    {
      "cell_type": "code",
      "source": [
        "attack_example(\"/content/public_key.pem\", message, signature)"
      ],
      "metadata": {
        "colab": {
          "base_uri": "https://localhost:8080/"
        },
        "id": "Be0aUKfAvCID",
        "outputId": "56704ba2-393e-4379-bf49-a3bc2a362d43"
      },
      "execution_count": 5,
      "outputs": [
        {
          "output_type": "stream",
          "name": "stdout",
          "text": [
            "Оригінальне повідомлення: Це тестове повідомлення для підпису.\n",
            "Перевірка підпису на оригінальному повідомленні...\n",
            "Результат: Підпис вірний\n",
            "\n",
            "Модифіковане повідомлення: Це тестове повідомлення для підпису. (модифіковане)\n",
            "Перевірка підпису з модифікованим повідомленням:\n",
            "Результат: Підпис недійсний\n",
            "\n",
            "Перевірка підпису з модифікованим підписом...\n",
            "Результат: Підпис недійсний\n"
          ]
        }
      ]
    },
    {
      "cell_type": "code",
      "source": [
        "def replay_attack_example(public_key_path, original_message, signature):\n",
        "    \"\"\"Демонструє атаку повторного використання підпису.\"\"\"\n",
        "    print(\"\\n=== Атака повторного використання підпису ===\")\n",
        "    new_message = \"Це інше повідомлення, але використовується старий підпис.\"\n",
        "    print(\"Нове повідомлення:\", new_message)\n",
        "    is_valid_replay = verify_signature(public_key_path, new_message, signature)\n",
        "    print(\"Результат:\", \"Підпис вірний\" if is_valid_replay else \"Підпис недійсний\")"
      ],
      "metadata": {
        "id": "7YDZtVMnvZwx"
      },
      "execution_count": 6,
      "outputs": []
    },
    {
      "cell_type": "code",
      "source": [
        "replay_attack_example(\"/content/public_key.pem\", message, signature)"
      ],
      "metadata": {
        "colab": {
          "base_uri": "https://localhost:8080/"
        },
        "id": "b3N3ONbUvai7",
        "outputId": "953e7256-5fc9-4612-aa46-33dec8321456"
      },
      "execution_count": 7,
      "outputs": [
        {
          "output_type": "stream",
          "name": "stdout",
          "text": [
            "\n",
            "=== Атака повторного використання підпису ===\n",
            "Нове повідомлення: Це інше повідомлення, але використовується старий підпис.\n",
            "Результат: Підпис недійсний\n"
          ]
        }
      ]
    },
    {
      "cell_type": "markdown",
      "source": [
        "**Принцип роботи ECC**\n",
        "\n",
        "Еліптичні криві засновані на задачі дискретного логарифма (ECDLP):\n",
        "- Відкрита точка Q обчислюється як Q = d * G, де G - генератор кривої, d - приватний ключ.\n",
        "- Для зловмисника обчислення d із Q без надзвичайно потужних ресурсів є практично неможливим.\n",
        "- Ця складність базується на перевіреній криптографічній теорії.\n",
        "\n",
        "Для ключа довжиною 256 біт, необхідні ресурси:\n",
        "- $2^{128}$ операцій для атаки грубою силою.\n"
      ],
      "metadata": {
        "id": "awlIvDzsxBPT"
      }
    },
    {
      "cell_type": "code",
      "source": [],
      "metadata": {
        "id": "72mLeIbzwZsk"
      },
      "execution_count": null,
      "outputs": []
    }
  ]
}