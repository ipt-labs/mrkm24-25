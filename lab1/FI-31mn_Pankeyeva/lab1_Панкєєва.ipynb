{
  "metadata": {
    "kernelspec": {
      "name": "python",
      "display_name": "Python (Pyodide)",
      "language": "python"
    },
    "language_info": {
      "codemirror_mode": {
        "name": "python",
        "version": 3
      },
      "file_extension": ".py",
      "mimetype": "text/x-python",
      "name": "python",
      "nbconvert_exporter": "python",
      "pygments_lexer": "ipython3",
      "version": "3.8"
    }
  },
  "nbformat_minor": 4,
  "nbformat": 4,
  "cells": [
    {
      "cell_type": "code",
      "source": "import os\nfrom cryptography.hazmat.backends import default_backend\nfrom cryptography.hazmat.primitives import hashes\nfrom cryptography.hazmat.primitives.asymmetric import padding, rsa\nfrom cryptography.hazmat.primitives.ciphers import Cipher, algorithms, modes\nfrom cryptography.hazmat.primitives.hashes import SHA256",
      "metadata": {
        "trusted": true
      },
      "outputs": [],
      "execution_count": 2
    },
    {
      "cell_type": "code",
      "source": "\ndef generate_aes_key() -> bytes:\n    \"\"\"Генерує випадковий ключ AES.\n\n    Повертає:\n        bytes: Згенерований 256-бітний AES-ключ.\n    \"\"\"\n    return os.urandom(32)  # Генерується 32 байти випадкових даних (256 біт).\n\n\ndef encrypt_with_aes(key: bytes, plaintext: str) -> tuple[bytes, bytes]:\n    \"\"\"Шифрує текст за допомогою AES у режимі CFB.\n\n    Аргументи:\n        key (bytes): AES-ключ для шифрування.\n        plaintext (str): Повідомлення, яке потрібно зашифрувати.\n\n    Повертає:\n        tuple[bytes, bytes]: Кортеж, що містить вектор ініціалізації (IV) та зашифрований текст.\n    \"\"\"\n    iv = os.urandom(16)  # Генерується 16-байтний вектор ініціалізації.\n    cipher = Cipher(algorithms.AES(key), modes.CFB(iv), backend=default_backend())\n    encryptor = cipher.encryptor()\n    ciphertext = encryptor.update(plaintext.encode('utf-8')) + encryptor.finalize()  # Шифрується повідомлення.\n\n    return iv, ciphertext",
      "metadata": {
        "trusted": true
      },
      "outputs": [
        {
          "name": "stdout",
          "text": "Лабораторна робота 1 , Панкєєва(Двоєглазова) СД\n",
          "output_type": "stream"
        }
      ],
      "execution_count": 6
    },
    {
      "cell_type": "code",
      "source": "def generate_rsa_keypair() -> tuple[rsa.RSAPrivateKey, rsa.RSAPublicKey]:\n    \"\"\"Генерує пару ключів RSA (приватний та публічний).\n\n    Повертає:\n        tuple[rsa.RSAPrivateKey, rsa.RSAPublicKey]: Кортеж із приватним та публічним RSA-ключами.\n    \"\"\"\n    private_key = rsa.generate_private_key(public_exponent=65537, key_size=2048, backend=default_backend())\n    public_key = private_key.public_key()\n\n    return private_key, public_key\n\n\ndef sign_data(private_key: rsa.RSAPrivateKey, data: bytes) -> bytes:\n    \"\"\"Підписує дані за допомогою приватного ключа RSA.\n\n    Аргументи:\n        private_key (rsa.RSAPrivateKey): Приватний RSA-ключ для підпису.\n        data (bytes): Дані для підпису.\n\n    Повертає:\n        bytes: Згенерований підпис.\n    \"\"\"\n    return private_key.sign(\n        data,\n        padding.PSS(mgf=padding.MGF1(SHA256()), salt_length=padding.PSS.MAX_LENGTH),\n        hashes.SHA256(),\n    )\n",
      "metadata": {
        "trusted": true
      },
      "outputs": [],
      "execution_count": 7
    },
    {
      "cell_type": "code",
      "source": "def verify_signature(public_key: rsa.RSAPublicKey, signature: bytes, data: bytes) -> bool:\n    \"\"\"Перевіряє RSA-підпис.\n\n    Аргументи:\n        public_key (rsa.RSAPublicKey): Публічний ключ RSA для перевірки.\n        signature (bytes): Підпис для перевірки.\n        data (bytes): Оригінальні дані.\n\n    Повертає:\n        bool: True, якщо підпис валідний, False у разі помилки.\n    \"\"\"\n    try:\n        public_key.verify(\n            signature,\n            data,\n            padding.PSS(mgf=padding.MGF1(SHA256()), salt_length=padding.PSS.MAX_LENGTH),\n            hashes.SHA256(),\n        )\n        return True\n    except Exception:\n        return False  # Якщо перевірка не пройшла, повертається False.\n\n\nif __name__ == '__main__':\n    # Демонстрація шифрування AES\n    original_message = 'Конфіденційна інформація'\n    aes_key = generate_aes_key()\n    iv, ciphertext = encrypt_with_aes(aes_key, original_message)\n\n    print(\"Лабораторна робота 1 , Панкєєва(Двоєглазова) СД\")\n    print(f'Оригінальне повідомлення: {original_message}')\n    print(f'AES-ключ: {aes_key.hex()}')\n    print(f'Вектор ініціалізації (IV): {iv.hex()}')\n    print(f'Зашифрований текст: {ciphertext.hex()}')\n\n    # Генерація RSA-ключів та підпис\n    private_key, public_key = generate_rsa_keypair()\n    data = 'Важливі дані'.encode('utf-8')  # Текст перекодується в байти за допомогою UTF-8\n    signature = sign_data(private_key, data)\n\n    print(f'Дані для підпису: {data.decode(\"utf-8\")}')\n    print(f'Підпис: {signature.hex()}')\n\n    # Перевірка підпису\n    is_valid = verify_signature(public_key, signature, data)\n    print(f'Підпис валідний: {is_valid}')",
      "metadata": {
        "trusted": true
      },
      "outputs": [
        {
          "name": "stdout",
          "text": "Лабораторна робота 1 , Панкєєва(Двоєглазова) СД\nОригінальне повідомлення: Конфіденційна інформація\nAES-ключ: 74d9f46f9c145d73f22fe70c04d838d98d2e8c17e52649e4baac0b558ab739b9\nВектор ініціалізації (IV): f25922bd3a421a669def5388625fb2de\nЗашифрований текст: 34513c38388969c9a699f8dd44fbd6b14c3204ef6202ff718a67fc90bf0f4bf17e9eead986030b2e94b04d3d80f716\nДані для підпису: Важливі дані\nПідпис: 51749a8148042408360acb949e6cb26621455f0f64a34b1f177d03454bfab3c972973d2dfafbc227519ba03381a16b835715015f79e17f11ca40a3a4463c3ca71a3cf2bbdcb0dd2e7d4f2f695d3a23fd99abb90bc4ba8e26786931229f1d99c6f80d656977b81e1bf54100e6f7bacac3cae8001f4463cb0a6f1907e916d74f6ce499169ee668bd86d90ad3640120cdb5c013c5ddc5c51fc27f6ad1d96dbbba020efe0664c18a486af7b8737f102494fc043d8667cd9689e5e0589c6baffaed04ec8a35fe275cef5eb0793b18d50c83488ae88b7d0219b91253c4997d2de2605f14bd3b1a029fc8f4b30590d1ef37b901c6335e681e49b3baa2036114fa1a1221\nПідпис валідний: True\n",
          "output_type": "stream"
        }
      ],
      "execution_count": 10
    },
    {
      "cell_type": "code",
      "source": "",
      "metadata": {
        "trusted": true
      },
      "outputs": [],
      "execution_count": null
    }
  ]
}