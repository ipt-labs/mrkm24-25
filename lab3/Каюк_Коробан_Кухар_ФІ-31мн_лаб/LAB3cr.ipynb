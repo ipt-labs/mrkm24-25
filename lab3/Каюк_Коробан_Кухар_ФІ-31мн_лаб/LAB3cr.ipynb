{
 "cells": [
  {
   "cell_type": "code",
   "execution_count": 1,
   "id": "ee26ffc2-18c8-43d7-b852-40f9a3b5ae06",
   "metadata": {},
   "outputs": [],
   "source": [
    "import time\n",
    "from Crypto.PublicKey import RSA\n",
    "from Crypto.Cipher import PKCS1_OAEP\n",
    "from cryptography.hazmat.primitives.asymmetric import ec\n",
    "from cryptography.hazmat.primitives.kdf.hkdf import HKDF\n",
    "from cryptography.hazmat.primitives.hashes import SHA256\n",
    "import random"
   ]
  },
  {
   "cell_type": "code",
   "execution_count": 2,
   "id": "88063d0d-9338-4957-909e-e378d7cd1fd9",
   "metadata": {},
   "outputs": [],
   "source": [
    "def generate_polynomial(secret, threshold):\n",
    "    coefficients = [secret] + [random.randint(1, 1000) for _ in range(threshold - 1)]\n",
    "    return coefficients"
   ]
  },
  {
   "cell_type": "code",
   "execution_count": 3,
   "id": "5d17a537-e601-4a57-8ee3-7e95cc6f1035",
   "metadata": {},
   "outputs": [],
   "source": [
    "def evaluate_polynomial(coefficients, x):\n",
    "    return sum(coef * (x ** power) for power, coef in enumerate(coefficients))"
   ]
  },
  {
   "cell_type": "code",
   "execution_count": 4,
   "id": "d0ba4bc5-ca92-4809-bfb2-352504d1a951",
   "metadata": {},
   "outputs": [],
   "source": [
    "def reconstruct_secret(points):\n",
    "    secret = 0\n",
    "    for i, (x_i, y_i) in enumerate(points):\n",
    "        term = y_i\n",
    "        for j, (x_j, _) in enumerate(points):\n",
    "            if i != j:\n",
    "                term *= x_j / (x_j - x_i)\n",
    "        secret += term\n",
    "    print(f\"Відновлений секрет: {round(secret)}\")\n",
    "    return round(secret)"
   ]
  },
  {
   "cell_type": "code",
   "execution_count": 5,
   "id": "feebdceb-13cd-4647-8787-81b353a6708d",
   "metadata": {},
   "outputs": [],
   "source": [
    "def split_secret(secret, threshold, num_shares):\n",
    "    coefficients = generate_polynomial(secret, threshold)\n",
    "    shares = [(i, evaluate_polynomial(coefficients, i)) for i in range(1, num_shares + 1)]\n",
    "    print(\"Частки секрету (Шамір):\", shares)\n",
    "    return shares"
   ]
  },
  {
   "cell_type": "code",
   "execution_count": 6,
   "id": "9c188abe-a76c-44a3-b046-5efe14988b19",
   "metadata": {},
   "outputs": [],
   "source": [
    "# Шифрування часток за допомогою RSA\n",
    "def rsa_encrypt_shares(shares):\n",
    "    rsa_key = RSA.generate(2048)\n",
    "    public_key = rsa_key.publickey()\n",
    "    cipher = PKCS1_OAEP.new(public_key)\n",
    "\n",
    "    encrypted_shares = []\n",
    "    encryption_time_start = time.time()\n",
    "    for share in shares:\n",
    "        encrypted_shares.append((share[0], cipher.encrypt(str(share[1]).encode())))\n",
    "    encryption_time = time.time() - encryption_time_start\n",
    "\n",
    "    print(f\"Зашифровані частки (RSA): {encrypted_shares}\")\n",
    "    print(f\"Час шифрування (RSA): {encryption_time:.5f} с\")\n",
    "    return rsa_key, encrypted_shares, encryption_time"
   ]
  },
  {
   "cell_type": "code",
   "execution_count": 7,
   "id": "04dc05aa-56d0-4fed-8aa2-4ed9d0b99afc",
   "metadata": {},
   "outputs": [],
   "source": [
    "# Розшифрування часток за допомогою RSA\n",
    "def rsa_decrypt_shares(rsa_key, encrypted_shares):\n",
    "    decipher = PKCS1_OAEP.new(rsa_key)\n",
    "\n",
    "    decrypted_shares = []\n",
    "    decryption_time_start = time.time()\n",
    "    for share in encrypted_shares:\n",
    "        decrypted_shares.append((share[0], int(decipher.decrypt(share[1]).decode())))\n",
    "    decryption_time = time.time() - decryption_time_start\n",
    "\n",
    "    print(f\"Розшифровані частки (RSA): {decrypted_shares}\")\n",
    "    print(f\"Час розшифрування (RSA): {decryption_time:.5f} с\")\n",
    "    return decrypted_shares, decryption_time"
   ]
  },
  {
   "cell_type": "code",
   "execution_count": 8,
   "id": "a91d1652-557b-4356-b529-bd07903c2e6b",
   "metadata": {},
   "outputs": [],
   "source": [
    "# Шифрування часток за допомогою ECC\n",
    "def ecc_encrypt_shares(shares):\n",
    "    private_key = ec.generate_private_key(ec.SECP256R1())\n",
    "    peer_private_key = ec.generate_private_key(ec.SECP256R1())\n",
    "\n",
    "    shared_secret = private_key.exchange(ec.ECDH(), peer_private_key.public_key())\n",
    "    derived_key = HKDF(algorithm=SHA256(), length=32, salt=None, info=b'secret sharing').derive(shared_secret)\n",
    "\n",
    "    encrypted_shares = []\n",
    "    encryption_time_start = time.time()\n",
    "    for share in shares:\n",
    "        encrypted_shares.append((share[0], int.from_bytes(derived_key[:4], byteorder='big') ^ share[1]))\n",
    "    encryption_time = time.time() - encryption_time_start\n",
    "\n",
    "    print(f\"Зашифровані частки (ECC): {encrypted_shares}\")\n",
    "    print(f\"Час шифрування (ECC): {encryption_time:.5f} с\")\n",
    "    return private_key, peer_private_key, encrypted_shares, encryption_time"
   ]
  },
  {
   "cell_type": "code",
   "execution_count": 9,
   "id": "a94cfc9c-67ab-49aa-9d94-9ff32fc2ed88",
   "metadata": {},
   "outputs": [],
   "source": [
    "# Розшифрування часток за допомогою ECC\n",
    "def ecc_decrypt_shares(private_key, peer_private_key, encrypted_shares):\n",
    "    shared_secret = private_key.exchange(ec.ECDH(), peer_private_key.public_key())\n",
    "    derived_key = HKDF(algorithm=SHA256(), length=32, salt=None, info=b'secret sharing').derive(shared_secret)\n",
    "\n",
    "    decrypted_shares = []\n",
    "    decryption_time_start = time.time()\n",
    "    for share in encrypted_shares:\n",
    "        decrypted_shares.append((share[0], int.from_bytes(derived_key[:4], byteorder='big') ^ share[1]))\n",
    "    decryption_time = time.time() - decryption_time_start\n",
    "\n",
    "    print(f\"Розшифровані частки (ECC): {decrypted_shares}\")\n",
    "    print(f\"Час розшифрування (ECC): {decryption_time:.5f} с\")\n",
    "    return decrypted_shares, decryption_time"
   ]
  },
  {
   "cell_type": "code",
   "execution_count": 10,
   "id": "81ddb9e6-9842-421c-a39e-62da47273bdc",
   "metadata": {},
   "outputs": [
    {
     "name": "stdout",
     "output_type": "stream",
     "text": [
      "Частки секрету (Шамір): [(1, 12934), (2, 14085), (3, 15798), (4, 18073), (5, 20910)]\n",
      "\n",
      "=== Розподіл часток за допомогою RSA ===\n",
      "Зашифровані частки (RSA): [(1, b'\\x88\\xca|\\r\\xa9K\\x0b\\x9a\\xab\\xcf\\xe5\\x96\\xd2\\x93\\x00\\xbe\\xe5\\x89c.\\xb1\\xf2r\\\\!\\xb9W\\x120D\\xd9\\xa9\\x82\\xcd\\xd9PQ4\\x12UVq\\xf6\\xdd\\x82\\xf0\\x9d\\x8bbjmT>\\xc6\\xfa$\\xd1\\xb8\\xf3\\xd4\\xa4\\xb8\\xad\\xacK\\x99H\\x93\\xc9_}\\xdcZ\\xc0c\\x95\\x90\\x1a\\x19\\xb0\\xb4\\x87\\x00\\x1a8\\xc82F\\x87\\x0b\\xc40\\xa2^\\xc9C\\x98\\x04\\xd1\\xcf\\xb9\\x96~o\\xe5.\\x1a\\xfeN1eJ\\xd4\\xef\\xa5\\x06\\x03W\\xc95\\xb2\\x02\\xed\\x06(\\x97\\xb2\\x87\\xefW\\x92\\x03\\x14P)\\x16\\x95\\x8eB\\x86\\x00\\xd21g\\x07\\x80G\\xa7\\xbc\\xf2\\xf4s\\x99J\\xea]\\xe2\\xb1\\xe9\\x9f\\xfa\\xe2H\\xbdy\\x90\\x96\\xa8|\\xa3\\xdc\\x15\\xe83\\x83_S\\xd1v\\xcd\\xc6\\x9a\\x010\\xe1\\xc2\\x07M\\x80T\\xc3\\x1f1:\\x7fj\\x0c\\xa7\\xba\\xc8\\xa4\\xc6]r\\x15\\xac;\\x1e\\x8d\\x8a\\xdbp\\x89G|5\\x1c\\xd2 \\x1e[\\xe8\\x06\\xd8\\x17\\xc9k\\xad\\x80\\xed\\x14\\xef\\xdd\\xc9\\xa3\\xe5\\x02\\xdd:~\\x87\\xba\\x1d{[\\x00\\xf1\\x99ek\\xa6\\x12\\xdb(7\\xe6'), (2, b'Bz\\x1d}\\\\\\xb5\\x13\\xder\\xbdj&ZM\\x7f\\x12\\x89%\\xc7\\xfb\\x04;\\xc1\\xb5\\xa2Y#@\\x9eQj\\x1e\\xd0\\xa8S+D0\\x16w\\xb1<\\xd9gl\\xc2\\xa3\\x02\\xff62E\\xb4\"^\\x7fS\\xe9\\xc9\\xa5\\xcc\\xe8h\\xbcj\\x0c\\x8fKq\\xe3\\x91r\\xd5\\n\\xa6Ca8\\x19\\n\\xd1e\\xeb\\x14L\\x89GP\"PV\\x19S\\xed\\xbf\\xa6\\x08g9r\\xd3\\xc5\\x9b\\xcc\\xd5\\x9a\\xea\\x01\\xe9dc\\xbdv\\x1bb\\xa7J\\xc5`\\xff\\xb8+\\x8en\\x8e\\xb1\\x9e\\xfeh\\xb5\\xbc(\\n<|\\xa9\\xab#\\xe5\\xe0\\xc8\\xab\\xc3\\xdf\\xda\\x86\\x95\\x16\\x8b\\x08\\xb7\\xa3\\xb4N\\xfd\\xb7g\\\\\\x1f}\\xb9_K_s\\xbc\\xe2\\xe82\\xea|A\\xa2\\xa1\\xc9\\x83{\\n5*\\xc8\\xdd:\\xf3l1c)\\xb3\\xa4\\xf7\\xfd\\xe2\\xdb\\x9b\\xe0\\x12\\xe4\\xe7\\x86\\x13\\x19\\xa0#\\x8f\\xc9\\xb9\\x85\\x17\\x9a\\xcb=\\x97%q(\\xa3\\x9b\\xbd\\xdfZ\\xd8L\\xa4\\x92\\x02\\xe4c\\xcc)\\x12\\xc6\\n\\xa0\\xed\\xb1\\xc6`.\\xdb\\xf2\\x1fws\\xe0>\\xb2\\x0e\\x92\\xe3\\xbc2\\x86s~\\xc6'), (3, b'\\xa3\\x93\\xa9\\xb6\\xd0\\xc6\\x08\\xf87\\'\\xd1\\xad\\xfb\\xed\\xb9\\xad\\xb6\\x95\\x12\\xd2\\x85\\xf2TO\\\\+_yc\\x0b)\\x99e\\x0fe\\xc6K\\x8fI!\\x90\\x19\\x02\\x9f\\xdf\\x7f\\x8e\\xb6\\x81spu\\xba\\xde\\x99\\x89\\xa0PV\\x8d\\xcaF\\xfb!\\x1e\"\\x9d\\x84\\xb7uS\\xd3\\xf0=\\x16|a\\xeb\\xf6l\\xde\\x12\\x84l\\xf0\\x11\\x9f\\x0b\\x7f\\xaf\\xcc\\x0b)\\xd5j\\xa7\\x12\\x98NR\\xb8\\x10V\\xdb&\\'h\\x7f\\xc3\\xbc\\xbb\\xa1\\x03\\x11(\\x00\\x9dJ\\xc4\\xc4Q\\x14\\x875\\x87\\x11\\xec\\xc1F\\x9e\\xbc\\xad\\x12%A\\xac\\rV\\xb8\\x1e\\x1d(\\xb3\\xa9 \\xca\\x99\\xe8J!\\xe2\\xf3\\x97IO\\x01\\r\\x9c\\x0f\\r\\x95\\xdcs&v\\x95Z;v\\xd6\\r\\xc0>\\xa1\\x1aQU\\xd5\\x94,\\x9f\\xfa\\xf4E7A\\xf1\\xbdC\\xc1\\xf0\\xe5\\x92\\xa3\\xbfy\\xe5\\x91{x*H\\xb9xTa \\x1ed\\x85\\x13\\xfe\\x00\\x86\\x84\\x18\\xd9\\xef\\xb3\\x88\\xf9\\x92\\xca\\xb6\\x97\\x86\\x91\\x00\\xd9\\x0f`1\\x02%\\x12\\xfb\\xfb~\\xb3\\x04\\x13)\\x9e\\x18\\xf4\\xf9KFQ\\xe1N%\\xb6\\xaa}|'), (4, b'\\x80h\\xcb\\x99\\x80\\x05\\xe3\\x05\\xde\\xae6F3\\x0f5\\x04\"\\x0c\\x0f\\xca\\xd4\\\\\\xf3\\xbe\\'\\x98e\\xfd-\\x14&,\\xe7\\x8ds\\xcd\\x8e\\xc1\\x1e\\xc8\\xee\\xa1%\\xdd\\x03:&\\x9a\\xe2nk\\xdd\\x98\\xf4s\\xdcJ?\\r\\xc8\\x91\\xc1\\x1a\\x0e\\x89\\t\\xaf{\\x8a9\\t\\xb61\\x9b\\x92\\x00\\xee\\x05\\xa8\\x90F\\x1cHr\\xb1^\\xb1T\\xe4\\r1\\x8f>\\x93b\\x9eQj\\xb4\\x1eJ\\xfe\\x8c\\xc3\\xb6\\xbc\\x8b\\nC_m\\xfd\\xb5\\xac\\x0bcr\\x1e\\xef\\x83\\xb9\\x8c.\\xb7\\xef\\xf1T\\xcde\\xf307\\xc50\\x13A\\xbd*\\xad\\xfc\\xf0B\\xb1!\\xccT\\xb0\\xa9\\x0f`\\xc9\\x0e\\xca\\x02\\xe7\\x97V\\x17\\x1cK*\\x8fwR\\n\\x10\\x0eL\\xd4\\x12ad\\xfb\\xb3\\x08H\\xd2\\xfe\\xcf\\xd0a\\x04\\xe2\\xed\\x1e\"\\xf7.o~\\xf3\\xba\\x1f\\x82Z\\xf0\\xb2\\xa2\\xab\\x9e,\\xb8iz\\xa4;\\xe5`\\nf2\\xafH\\xe8\\xf2\\xe9H\\x19\\x12\\x0eL6\\x17\\xf2\\x18\\xe5\\x9a\\x17\\x9a\\xd0\\x17\\x06eQ\\x11Q\\x85\\xf7\\xc1+d\\xc36\\x7fL\\x0b\\x17m\\x19\\xbb\\xdf\\xa1;2\\xea\\''), (5, b'\\x1a1\\x15\\x92\\x9b0\\xdetw\\xc6\\xde/%\\xd1\\x98\\x9e]\\x15\\x8f8\\xcd\\x8f\\xf7\\xe9\\xd2\\x0bp\\x0e\\xcbc\\x02\\xbdHz0\\x9e\\x8e\\x88\\x1a+l\\xff3\\x91\\xdd\\xc7?\\xe9\\xab\\x0e\\x16\\xac\\xb7\\xf7\\xea\\xc5\\x9e\\xc0rE\\x82$\\x8dc\\xa6\\x0c\\x18\\xb6\\xfc\\xe4\\xae\\xa8\\xa7x\\x12\\x00t5\\xfd\\xff\\xe3\\x99\\xc2e\\xac\\x1e\\xa6\\xa2\\x19\\x83k\\xf1\\xadv\\x10\\xc2\\x89:\\xa6_\\xd5nK)FI\\x14\\xce\\x8f\\xe2\\xbe\\xc8\\xeau P\\x96k^\\xef&\\xc9}\\xf7h\\x8a\\xe2$>\\xdd\\x97_k\\xc3x\\x0c\\xb4Z]er\\xcb\\x11n\\x1d\\xcb/J\\x17\\r+k\\x9eh\\xcf\\xbc\\x1b4P\\xbd\"\\x99\\x14\\x836\\n5\\x90V\\x9e>\\xa4\\xb0/\\xbdr\\xe25\\x94,;\\xec\\x98\\x9f\\xd4#\\xd1/\\xa5\\xfcS\\xcc\\xeew\\x8a\\x8cr\\xe7-\\xec#R\\xb5l\\x94\\xe4\\x04\\xf9Bs$\\xde8\\xcc#Y\\xab\\x006\\x99/\\xd3]\\xed\\x85#\\xe4\\x82\\xe1\\xc1Z8\\x9a\\x88\\x13T7|\\x1e\\xeb\\xb4hL\\x06\\xb1Y\\xaf\\xe9\\xf9b\\xdc%\\'\\xb3\\xc9\\x8f')]\n",
      "Час шифрування (RSA): 0.00400 с\n",
      "Розшифровані частки (RSA): [(1, 12934), (2, 14085), (3, 15798), (4, 18073), (5, 20910)]\n",
      "Час розшифрування (RSA): 0.02088 с\n",
      "Відновлений секрет: 12345\n",
      "\n",
      "=== Розподіл часток за допомогою ECC ===\n",
      "Зашифровані частки (ECC): [(1, 2576061596), (2, 2576060703), (3, 2576063404), (4, 2576081027), (5, 2576086964)]\n",
      "Час шифрування (ECC): 0.00000 с\n",
      "Розшифровані частки (ECC): [(1, 12934), (2, 14085), (3, 15798), (4, 18073), (5, 20910)]\n",
      "Час розшифрування (ECC): 0.00000 с\n",
      "Відновлений секрет: 12345\n",
      "\n",
      "=== Порівняння ефективності ===\n",
      "RSA: Час шифрування + розшифрування: 0.02488 с\n",
      "ECC: Час шифрування + розшифрування: 0.00000 с\n",
      "ECC працює швидше для цієї задачі.\n"
     ]
    }
   ],
   "source": [
    "if __name__ == \"__main__\":\n",
    "    secret = 12345 # Початковий секрет\n",
    "    threshold = 3\n",
    "    num_shares = 5\n",
    "\n",
    "    # Розділення секрету\n",
    "    shares = split_secret(secret, threshold, num_shares)\n",
    "\n",
    "    print(\"\\n=== Розподіл часток за допомогою RSA ===\")\n",
    "    rsa_key, rsa_encrypted_shares, rsa_enc_time = rsa_encrypt_shares(shares)\n",
    "    rsa_decrypted_shares, rsa_dec_time = rsa_decrypt_shares(rsa_key, rsa_encrypted_shares)\n",
    "    rsa_reconstructed_secret = reconstruct_secret(rsa_decrypted_shares[:threshold])\n",
    "\n",
    "    print(\"\\n=== Розподіл часток за допомогою ECC ===\")\n",
    "    ecc_private_key, ecc_peer_private_key, ecc_encrypted_shares, ecc_enc_time = ecc_encrypt_shares(shares)\n",
    "    ecc_decrypted_shares, ecc_dec_time = ecc_decrypt_shares(ecc_private_key, ecc_peer_private_key, ecc_encrypted_shares)\n",
    "    ecc_reconstructed_secret = reconstruct_secret(ecc_decrypted_shares[:threshold])\n",
    "\n",
    "    print(\"\\n=== Порівняння ефективності ===\")\n",
    "    print(f\"RSA: Час шифрування + розшифрування: {rsa_enc_time + rsa_dec_time:.5f} с\")\n",
    "    print(f\"ECC: Час шифрування + розшифрування: {ecc_enc_time + ecc_dec_time:.5f} с\")\n",
    "    if rsa_enc_time + rsa_dec_time < ecc_enc_time + ecc_dec_time:\n",
    "        print(\"RSA працює швидше для цієї задачі.\")\n",
    "    else:\n",
    "        print(\"ECC працює швидше для цієї задачі.\")"
   ]
  }
 ],
 "metadata": {
  "kernelspec": {
   "display_name": "Python 3 (ipykernel)",
   "language": "python",
   "name": "python3"
  },
  "language_info": {
   "codemirror_mode": {
    "name": "ipython",
    "version": 3
   },
   "file_extension": ".py",
   "mimetype": "text/x-python",
   "name": "python",
   "nbconvert_exporter": "python",
   "pygments_lexer": "ipython3",
   "version": "3.11.5"
  }
 },
 "nbformat": 4,
 "nbformat_minor": 5
}
