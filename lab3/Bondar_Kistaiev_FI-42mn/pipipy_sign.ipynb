{
 "cells": [
  {
   "cell_type": "code",
   "execution_count": 1,
   "metadata": {},
   "outputs": [],
   "source": [
    "from sign import SchnorSigner, SchnorUser, schnor_check_sign"
   ]
  },
  {
   "cell_type": "code",
   "execution_count": 2,
   "metadata": {},
   "outputs": [
    {
     "name": "stdout",
     "output_type": "stream",
     "text": [
      "signer init\n"
     ]
    }
   ],
   "source": [
    "print(\"signer init\")\n",
    "signer = SchnorSigner(256)"
   ]
  },
  {
   "cell_type": "code",
   "execution_count": 3,
   "metadata": {},
   "outputs": [
    {
     "name": "stdout",
     "output_type": "stream",
     "text": [
      "user init\n"
     ]
    }
   ],
   "source": [
    "message = \"sample_text_1234\"\n",
    "\n",
    "print(\"user init\")\n",
    "user = SchnorUser(message.encode())"
   ]
  },
  {
   "cell_type": "code",
   "execution_count": 4,
   "metadata": {},
   "outputs": [
    {
     "name": "stdout",
     "output_type": "stream",
     "text": [
      "step: 1\n",
      "step: 2\n",
      "step: 3\n",
      "step: final\n",
      "check:\n",
      "True\n"
     ]
    }
   ],
   "source": [
    "print(\"step: 1\")\n",
    "g, h, gr = signer.blind_sign_first()\n",
    "\n",
    "print(\"step: 2\")\n",
    "c = user.blind_sign_second(g, h, gr)\n",
    "\n",
    "print(\"step: 3\")\n",
    "z = signer.blind_sign_thrid(c)\n",
    "\n",
    "print(\"step: final\")\n",
    "m, sign = user.blind_sign_finalize(z)\n",
    "\n",
    "print(\"check:\")\n",
    "print(schnor_check_sign(m, sign, h, g))"
   ]
  }
 ],
 "metadata": {
  "kernelspec": {
   "display_name": "Python 3",
   "language": "python",
   "name": "python3"
  },
  "language_info": {
   "codemirror_mode": {
    "name": "ipython",
    "version": 3
   },
   "file_extension": ".py",
   "mimetype": "text/x-python",
   "name": "python",
   "nbconvert_exporter": "python",
   "pygments_lexer": "ipython3",
   "version": "3.11.5"
  }
 },
 "nbformat": 4,
 "nbformat_minor": 2
}
