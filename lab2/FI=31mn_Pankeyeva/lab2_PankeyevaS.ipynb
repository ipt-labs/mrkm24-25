{
  "metadata": {
    "kernelspec": {
      "name": "python",
      "display_name": "Python (Pyodide)",
      "language": "python"
    },
    "language_info": {
      "codemirror_mode": {
        "name": "python",
        "version": 3
      },
      "file_extension": ".py",
      "mimetype": "text/x-python",
      "name": "python",
      "nbconvert_exporter": "python",
      "pygments_lexer": "ipython3",
      "version": "3.8"
    }
  },
  "nbformat_minor": 4,
  "nbformat": 4,
  "cells": [
    {
      "cell_type": "code",
      "source": "import math\nimport os\nimport time\n\nfrom cryptography.hazmat.backends import default_backend\nfrom cryptography.hazmat.primitives import serialization\nfrom cryptography.hazmat.primitives.asymmetric import rsa\n",
      "metadata": {
        "trusted": true
      },
      "outputs": [],
      "execution_count": 11
    },
    {
      "cell_type": "code",
      "source": "def generate_random_data(byte_count):\n    \"\"\"Генерує випадкові дані заданого розміру та вимірює тривалість генерації.\n\n    Аргументи:\n        byte_count (int): Кількість байтів для генерації.\n\n    Повертає:\n        tuple: Згенеровані дані у вигляді байтів та час, витрачений на їх створення.\n    \"\"\"\n    start = time.time()  # Початок вимірювання часу\n    random_bytes = os.urandom(byte_count)  # Створення випадкових байтів\n    duration = time.time() - start  # Обчислення часу виконання\n\n    # Виведення перших 64 символів у вигляді hex\n    print(f'Згенеровані дані: {random_bytes.hex()[:64]}... (64 символи в hex)')\n\n    return random_bytes, duration",
      "metadata": {
        "trusted": true
      },
      "outputs": [],
      "execution_count": 12
    },
    {
      "cell_type": "code",
      "source": "def compute_shannon_entropy(byte_data):\n    \"\"\"Розраховує ентропію Шеннона для заданих байтових даних.\n\n    Аргументи:\n        byte_data (bytes): Масив байтів для аналізу.\n\n    Повертає:\n        float: Ентропія даних у бітах на байт.\n    \"\"\"\n    # Ймовірності появи кожного байта\n    probabilities = [byte_data.count(byte) / len(byte_data) for byte in set(byte_data)]\n    # Формула Шеннона\n    return -sum(p * math.log2(p) for p in probabilities)",
      "metadata": {
        "trusted": true
      },
      "outputs": [],
      "execution_count": 13
    },
    {
      "cell_type": "code",
      "source": "def rsa_key_generation(bits=2048):\n    \"\"\"Створює пару RSA-ключів заданого розміру та вимірює час генерації.\n\n    Аргументи:\n        bits (int): Розмір ключа в бітах (типово 2048).\n\n    Повертає:\n        tuple: Приватний ключ RSA та час, витрачений на генерацію.\n    \"\"\"\n    start = time.time()  # Початок вимірювання часу\n    private_key = rsa.generate_private_key(public_exponent=65537, key_size=bits, backend=default_backend())\n    duration = time.time() - start  # Час генерації\n\n    print(f'RSA-ключ ({bits}-бітний) успішно створений')\n\n    return private_key, duration",
      "metadata": {
        "trusted": true
      },
      "outputs": [],
      "execution_count": 14
    },
    {
      "cell_type": "code",
      "source": "def evaluate_generation(byte_size, rsa_size):\n    \"\"\"Порівнює генерацію випадкових даних і ключів RSA за часом та ентропією.\n\n    Аргументи:\n        byte_size (int): Кількість байтів для генерації випадкових даних.\n        rsa_size (int): Розмір RSA-ключа в бітах.\n    \"\"\"\n    # Тест генерації випадкових байтів\n    print(f\"\\n{'=' * 40}\\nТест: Генерація випадкових даних ({byte_size} байтів):\")\n    random_data, gen_time = generate_random_data(byte_size)\n    entropy_random = compute_shannon_entropy(random_data)\n    print(f'• Час генерації: {gen_time:.6f} секунд')\n    print(f'• Ентропія даних: {entropy_random:.6f} біт на байт')\n    print('-' * 40)\n\n    # Тест генерації RSA ключів\n    print(f\"\\n{'=' * 40}\\nТест: Генерація RSA-ключів ({rsa_size} біт):\")\n    rsa_key, rsa_time = rsa_key_generation(rsa_size)\n    public_key_bytes = rsa_key.public_key().public_bytes(\n        encoding=serialization.Encoding.PEM,\n        format=serialization.PublicFormat.SubjectPublicKeyInfo\n    )  # Публічний ключ у форматі PEM\n    entropy_public_key = compute_shannon_entropy(public_key_bytes)\n\n    print(f'• Час генерації: {rsa_time:.6f} секунд')\n    print(f'• Довжина публічного ключа: {len(public_key_bytes)} байтів')\n    print(f'• Ентропія публічного ключа: {entropy_public_key:.6f} біт на байт')\n    print('-' * 40)\n\n    # Підсумки\n    print(f\"\\n{'=' * 40}\\nРезультати порівняння:\")\n    print('Випадкові дані:')\n    print(f'  - Час генерації: {gen_time:.6f} секунд')\n    print(f'  - Ентропія: {entropy_random:.6f} біт на байт')\n    print(f'\\nRSA-ключі ({rsa_size} біт):')\n    print(f'  - Час генерації: {rsa_time:.6f} секунд')\n    print(f'  - Довжина ключа: {len(public_key_bytes)} байтів')\n    print(f'  - Ентропія: {entropy_public_key:.6f} біт на байт')\n    print('=' * 40)\n\n\n# Виконання тесту\nevaluate_generation(byte_size=1024, rsa_size=2048)\n",
      "metadata": {
        "trusted": true
      },
      "outputs": [
        {
          "name": "stdout",
          "text": "\n========================================\nТест: Генерація випадкових даних (1024 байтів):\nЗгенеровані дані: 3267276c1635b47c4e78954ca72b948907d12e5aad2891974ac5ca9e378cc7b6... (64 символи в hex)\n• Час генерації: 0.000000 секунд\n• Ентропія даних: 7.795693 біт на байт\n----------------------------------------\n\n========================================\nТест: Генерація RSA-ключів (2048 біт):\nRSA-ключ (2048-бітний) успішно створений\n• Час генерації: 0.185000 секунд\n• Довжина публічного ключа: 451 байтів\n• Ентропія публічного ключа: 5.849175 біт на байт\n----------------------------------------\n\n========================================\nРезультати порівняння:\nВипадкові дані:\n  - Час генерації: 0.000000 секунд\n  - Ентропія: 7.795693 біт на байт\n\nRSA-ключі (2048 біт):\n  - Час генерації: 0.185000 секунд\n  - Довжина ключа: 451 байтів\n  - Ентропія: 5.849175 біт на байт\n========================================\n",
          "output_type": "stream"
        }
      ],
      "execution_count": 15
    },
    {
      "cell_type": "code",
      "source": "",
      "metadata": {
        "trusted": true
      },
      "outputs": [],
      "execution_count": null
    }
  ]
}